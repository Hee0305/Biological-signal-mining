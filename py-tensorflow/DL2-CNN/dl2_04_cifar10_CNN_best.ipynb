{
  "nbformat": 4,
  "nbformat_minor": 0,
  "metadata": {
    "accelerator": "GPU",
    "colab": {
      "name": "dl2-04-cifar10-CNN-best.ipynb",
      "provenance": [],
      "collapsed_sections": [],
      "include_colab_link": true
    },
    "interpreter": {
      "hash": "3834ce636a3ba6c6c2bd8b9b527c48eede78c367f849f6cce666ea7f1d26e2fb"
    },
    "kernelspec": {
      "display_name": "Python 3.8.5 64-bit ('base': conda)",
      "name": "python3"
    },
    "language_info": {
      "codemirror_mode": {
        "name": "ipython",
        "version": 3
      },
      "file_extension": ".py",
      "mimetype": "text/x-python",
      "name": "python",
      "nbconvert_exporter": "python",
      "pygments_lexer": "ipython3",
      "version": "3.8.5"
    }
  },
  "cells": [
    {
      "cell_type": "markdown",
      "metadata": {
        "id": "view-in-github",
        "colab_type": "text"
      },
      "source": [
        "<a href=\"https://colab.research.google.com/github/Hee0305/PDM06/blob/main/py-tensorflow/DL2-CNN/dl2_04_cifar10_CNN_best.ipynb\" target=\"_parent\"><img src=\"https://colab.research.google.com/assets/colab-badge.svg\" alt=\"Open In Colab\"/></a>"
      ]
    },
    {
      "cell_type": "markdown",
      "metadata": {
        "id": "rswfCVLZ-QW0"
      },
      "source": [
        "- Conv2D + FCN\n",
        "    * Conv2D : 2차원 합성곱 필터링 + 풀링(Pooling)\n",
        "    - > 2차원 필터로 영상을 대표하는 특징을 추출\n",
        "    * FCN : 1차원 완전연결신경망\n",
        "    - > Conv2D에서 추출된 대표 특징들을 이용하여 FCN으로 최종 학습 완료\n",
        "\n",
        "***\n",
        "- ## Traget: Find the best model of cifar10(컬러 데이터)\n",
        "***\n",
        "\n",
        "![cnn_c4f5.png](https://raw.githubusercontent.com/Redwoods/Py/master//pdm2020/my-note/py-tensorflow/images/cnn_c4f5.png)"
      ]
    },
    {
      "cell_type": "markdown",
      "metadata": {
        "id": "ISueys4bNHd1"
      },
      "source": [
        "### CIFAR-10 Dataset (CIFAR: Canadian Institute For Advanced Research)\n",
        "> https://www.cs.toronto.edu/~kriz/cifar.html\n",
        "\n",
        "- (50000, 32, 32, 3), train\n",
        "- (10000, 32, 32, 3), test\n",
        "- color photographs of objects from 10 classes, such as frogs, birds, cats, ships, etc\n",
        "> class names\n",
        "> - ['airplane', 'automobile', 'bird', 'cat', 'deer', 'dog', 'frog', 'horse', 'ship', 'truck']\n",
        "\n",
        "- 참고 문헌  \n",
        "\n",
        "> https://becominghuman.ai/cifar-10-image-classification-fd2ace47c5e8  \n",
        "\n",
        "> https://becominghuman.ai/convolutional-neural-networks-cnns-convnets-for-visual-recognition-cae879a70f1a\n",
        "\n",
        "> https://towardsdatascience.com/cifar-10-image-classification-in-tensorflow-5b501f7dc77c"
      ]
    },
    {
      "cell_type": "markdown",
      "metadata": {
        "id": "1yhvkxS_HhpK"
      },
      "source": [
        "## Search the best model of C2F2\n",
        "- callback\n",
        "    - Early stopping\n",
        "    - model checkpoint"
      ]
    },
    {
      "cell_type": "code",
      "metadata": {
        "colab": {
          "base_uri": "https://localhost:8080/"
        },
        "id": "8GgGzPXPVyfa",
        "outputId": "86509504-f408-46b4-8daa-1ac293691306"
      },
      "source": [
        "import numpy as np\n",
        "import tensorflow as tf\n",
        "from tensorflow import keras\n",
        "import pandas as pd\n",
        "import matplotlib.pyplot as plt\n",
        "# %matplotlib inline\n",
        "\n",
        "tf.random.set_seed(0)\n",
        "\n",
        "print(tf.__version__)"
      ],
      "execution_count": 1,
      "outputs": [
        {
          "output_type": "stream",
          "name": "stdout",
          "text": [
            "2.7.0\n"
          ]
        }
      ]
    },
    {
      "cell_type": "code",
      "metadata": {
        "id": "nMZqMpIvIlwf"
      },
      "source": [
        "# import TF2 submodules\n",
        "from tensorflow.keras import layers, models, callbacks"
      ],
      "execution_count": 2,
      "outputs": []
    },
    {
      "cell_type": "markdown",
      "metadata": {
        "id": "-0IOOUM14Jk1"
      },
      "source": [
        "## **데이터 로딩, 정규화**"
      ]
    },
    {
      "cell_type": "code",
      "metadata": {
        "colab": {
          "base_uri": "https://localhost:8080/"
        },
        "id": "N1ogJ7I64Fz-",
        "outputId": "61d157ca-d46b-41ac-ce96-e32764ca692c"
      },
      "source": [
        "from keras.datasets import cifar10\n",
        "\n",
        "(X_train0, y_train0), (X_test0, y_test0) = cifar10.load_data()\n",
        "\n",
        "# Reshape\n",
        "# X_train = X_train0.reshape(60000,28,28,1)\n",
        "# X_test = X_test0.reshape(10000,28,28,1)\n",
        "\n",
        "# Normalization\n",
        "X_train, X_test = X_train0/255.0, X_test0/255.0 # 정규화\n",
        "\n",
        "print(\"X_train={0}\".format(X_train.shape))\n",
        "print(\"y_train={0}\".format(y_train0.shape)) \n",
        "print(\"X_test={0}\".format(X_test.shape))\n",
        "print(\"y_test={0}\".format(y_test0.shape))"
      ],
      "execution_count": 3,
      "outputs": [
        {
          "output_type": "stream",
          "name": "stdout",
          "text": [
            "Downloading data from https://www.cs.toronto.edu/~kriz/cifar-10-python.tar.gz\n",
            "170500096/170498071 [==============================] - 2s 0us/step\n",
            "170508288/170498071 [==============================] - 2s 0us/step\n",
            "X_train=(50000, 32, 32, 3)\n",
            "y_train=(50000, 1)\n",
            "X_test=(10000, 32, 32, 3)\n",
            "y_test=(10000, 1)\n"
          ]
        }
      ]
    },
    {
      "cell_type": "code",
      "metadata": {
        "colab": {
          "base_uri": "https://localhost:8080/"
        },
        "id": "F46-QZqJHiQ6",
        "outputId": "ab38a4fe-6db7-4dee-8e5c-191858a1e900"
      },
      "source": [
        "# One-Hot-Encoding\n",
        "# Use function to_categorical() to do One-Hot-Encoding\n",
        "# tf.keras.utils.to_categorical\n",
        "from tensorflow.keras.utils import to_categorical\n",
        "\n",
        "y_train = to_categorical(y_train0, 10)\n",
        "y_test = to_categorical(y_test0, 10)\n",
        "y_train.shape,y_test.shape"
      ],
      "execution_count": 4,
      "outputs": [
        {
          "output_type": "execute_result",
          "data": {
            "text/plain": [
              "((50000, 10), (10000, 10))"
            ]
          },
          "metadata": {},
          "execution_count": 4
        }
      ]
    },
    {
      "cell_type": "code",
      "metadata": {
        "colab": {
          "base_uri": "https://localhost:8080/"
        },
        "id": "eZ3OfP5PkEkL",
        "outputId": "a30814fb-5ba5-4969-f303-365d5d8077e8"
      },
      "source": [
        "# y_train0.shape vs. y_train.shape\n",
        "y_train0.shape, y_train.shape"
      ],
      "execution_count": 5,
      "outputs": [
        {
          "output_type": "execute_result",
          "data": {
            "text/plain": [
              "((50000, 1), (50000, 10))"
            ]
          },
          "metadata": {},
          "execution_count": 5
        }
      ]
    },
    {
      "cell_type": "markdown",
      "metadata": {
        "id": "5z7SozStigmF"
      },
      "source": [
        "### Display images in CIFAR-10\n",
        "- one random image\n",
        "- 10 representative images"
      ]
    },
    {
      "cell_type": "code",
      "metadata": {
        "colab": {
          "base_uri": "https://localhost:8080/",
          "height": 231
        },
        "id": "IK7XT3XoirSL",
        "outputId": "36cfc6b2-86c8-4bcc-b911-e7ec1e5e4e17"
      },
      "source": [
        "# Code here!\n",
        "# display one random image from the training set:\n",
        "class_names =  ['airplane', 'automobile', 'bird', 'cat', 'deer', 'dog', 'frog', 'horse', 'ship', 'truck']\n",
        "\n",
        "idx = np.random.randint(0, X_train0.shape[0])\n",
        "print(idx)\n",
        "image = X_train0[idx]\n",
        "plt.figure(figsize=(3,3))\n",
        "plt.imshow(image) #, cmap=plt.get_cmap('gray'))\n",
        "plt.title(class_names[y_train0[idx][0]])\n",
        "plt.xticks([])\n",
        "plt.yticks([])\n",
        "plt.show()"
      ],
      "execution_count": 6,
      "outputs": [
        {
          "output_type": "stream",
          "name": "stdout",
          "text": [
            "1679\n"
          ]
        },
        {
          "output_type": "display_data",
          "data": {
            "image/png": "[encoded data removed]",
            "text/plain": [
              "<Figure size 216x216 with 1 Axes>"
            ]
          },
          "metadata": {}
        }
      ]
    },
    {
      "cell_type": "code",
      "metadata": {
        "colab": {
          "base_uri": "https://localhost:8080/",
          "height": 325
        },
        "id": "LzhD5pcukau7",
        "outputId": "cceb88bf-db5f-4bb4-c74e-8882cb1f08b3"
      },
      "source": [
        "fig = plt.figure(figsize=(10,6))\n",
        "num0_9 = np.unique(y_train0, return_index=True)[1]\n",
        "images = X_train[num0_9]\n",
        "for i in range(10):\n",
        "    plt.subplot(2, 5, i+1)\n",
        "    # num0_9 = X_train0[y_train0 == i]\n",
        "    \n",
        "    # print(num0_9.shape)\n",
        "    # plt.imshow(num0_9[0]) \n",
        "    plt.imshow(images[i])\n",
        "    plt.title(class_names[i])\n",
        "    plt.xticks([])\n",
        "    plt.yticks([])"
      ],
      "execution_count": 7,
      "outputs": [
        {
          "output_type": "display_data",
          "data": {
            "image/png": "[encoded data removed]",
            "text/plain": [
              "<Figure size 720x432 with 10 Axes>"
            ]
          },
          "metadata": {}
        }
      ]
    },
    {
      "cell_type": "markdown",
      "metadata": {
        "id": "55DYVfFXi0WR"
      },
      "source": [
        "# Design CNN"
      ]
    },
    {
      "cell_type": "markdown",
      "metadata": {
        "id": "iPcLIcUCcsiG"
      },
      "source": [
        "### import models, layers, callbacks\n",
        "- models: Sequential\n",
        "- layers: Conv2D, MaxPool2D, Flatten\n",
        "- callbacks: ModelCheckpoint, EarlyStopping"
      ]
    },
    {
      "cell_type": "code",
      "metadata": {
        "id": "NzqMC4Xtc3ZE"
      },
      "source": [
        "from keras.models import Sequential\n",
        "from keras.layers import Conv2D, MaxPool2D, Flatten\n",
        "from keras.callbacks import ModelCheckpoint, EarlyStopping"
      ],
      "execution_count": 8,
      "outputs": []
    },
    {
      "cell_type": "markdown",
      "metadata": {
        "id": "7Z6DJJUCei-s"
      },
      "source": [
        "## **CNN2 + FCN2**"
      ]
    },
    {
      "cell_type": "code",
      "metadata": {
        "id": "hTLkuGeYsVrs"
      },
      "source": [
        "# Random number seed\n",
        "np.random.seed(1234)\n",
        "tf.random.set_seed(1234)"
      ],
      "execution_count": 9,
      "outputs": []
    },
    {
      "cell_type": "code",
      "metadata": {
        "id": "pV3NFglM7P65"
      },
      "source": [
        "c2f2 = keras.models.Sequential([ \n",
        "    Conv2D(input_shape=(32,32,3), filters= 64, kernel_size=(3,3), strides=(1,1), padding='same', activation='relu'),\n",
        "    MaxPool2D(pool_size=(2,2), strides=(2,2)), \n",
        "    Conv2D(filters= 32, kernel_size=(3,3), strides=(1,1), padding='same', activation='relu'),\n",
        "    MaxPool2D(pool_size=(2,2), strides=(2,2)),\n",
        "    Flatten(), \n",
        "    keras.layers.Dense(128, activation='relu'),  \n",
        "    keras.layers.Dropout(0.25), \n",
        "    keras.layers.Dense(10, activation='softmax')\n",
        "])\n",
        "\n",
        "c2f2.compile(optimizer='adam',\n",
        "              loss='categorical_crossentropy',\n",
        "              metrics=['accuracy']) "
      ],
      "execution_count": 10,
      "outputs": []
    },
    {
      "cell_type": "code",
      "metadata": {
        "colab": {
          "base_uri": "https://localhost:8080/"
        },
        "id": "OGtCiKy57YkR",
        "outputId": "5b7e1a52-dfe9-48e4-dbd3-619019e84c73"
      },
      "source": [
        "c2f2.summary()"
      ],
      "execution_count": 11,
      "outputs": [
        {
          "output_type": "stream",
          "name": "stdout",
          "text": [
            "Model: \"sequential\"\n",
            "_________________________________________________________________\n",
            " Layer (type)                Output Shape              Param #   \n",
            "=================================================================\n",
            " conv2d (Conv2D)             (None, 32, 32, 64)        1792      \n",
            "                                                                 \n",
            " max_pooling2d (MaxPooling2D  (None, 16, 16, 64)       0         \n",
            " )                                                               \n",
            "                                                                 \n",
            " conv2d_1 (Conv2D)           (None, 16, 16, 32)        18464     \n",
            "                                                                 \n",
            " max_pooling2d_1 (MaxPooling  (None, 8, 8, 32)         0         \n",
            " 2D)                                                             \n",
            "                                                                 \n",
            " flatten (Flatten)           (None, 2048)              0         \n",
            "                                                                 \n",
            " dense (Dense)               (None, 128)               262272    \n",
            "                                                                 \n",
            " dropout (Dropout)           (None, 128)               0         \n",
            "                                                                 \n",
            " dense_1 (Dense)             (None, 10)                1290      \n",
            "                                                                 \n",
            "=================================================================\n",
            "Total params: 283,818\n",
            "Trainable params: 283,818\n",
            "Non-trainable params: 0\n",
            "_________________________________________________________________\n"
          ]
        }
      ]
    },
    {
      "cell_type": "code",
      "metadata": {
        "id": "zw_pQPBdJmU8"
      },
      "source": [
        "cp_callback = callbacks.ModelCheckpoint(filepath=\"./cifar10_c2f2_best_weights.{epoch:03d}-{val_accuracy:.4f}.hdf5\", \n",
        "                              monitor='val_accuracy', verbose=0, save_best_only=True)\n",
        "es_callback = callbacks.EarlyStopping(monitor='val_accuracy', \n",
        "                            mode='max', verbose=1, patience=5)    # patience=10, 25, 50"
      ],
      "execution_count": 12,
      "outputs": []
    },
    {
      "cell_type": "code",
      "metadata": {
        "colab": {
          "base_uri": "https://localhost:8080/"
        },
        "id": "94GWWQt-7eRS",
        "outputId": "9a6174df-141b-4306-ebdc-a44a002e706c"
      },
      "source": [
        "BATCH_SIZE = 50  # cifar10 이미지가 컬러여서 복잡하기 때문에 정확도가 떨어진것을 확인할 수 있음\n",
        "hist = c2f2.fit(X_train, y_train, epochs = 500 , batch_size = BATCH_SIZE, \n",
        "         callbacks=[cp_callback, es_callback], \n",
        "         validation_data=(X_test,y_test))"
      ],
      "execution_count": 13,
      "outputs": [
        {
          "output_type": "stream",
          "name": "stdout",
          "text": [
            "Epoch 1/500\n",
            "1000/1000 [==============================] - 23s 11ms/step - loss: 1.5182 - accuracy: 0.4518 - val_loss: 1.1954 - val_accuracy: 0.5703\n",
            "Epoch 2/500\n",
            "1000/1000 [==============================] - 11s 11ms/step - loss: 1.1786 - accuracy: 0.5816 - val_loss: 1.0409 - val_accuracy: 0.6280\n",
            "Epoch 3/500\n",
            "1000/1000 [==============================] - 11s 11ms/step - loss: 1.0427 - accuracy: 0.6306 - val_loss: 0.9943 - val_accuracy: 0.6500\n",
            "Epoch 4/500\n",
            "1000/1000 [==============================] - 11s 11ms/step - loss: 0.9580 - accuracy: 0.6628 - val_loss: 0.9598 - val_accuracy: 0.6615\n",
            "Epoch 5/500\n",
            "1000/1000 [==============================] - 11s 11ms/step - loss: 0.8935 - accuracy: 0.6822 - val_loss: 0.8990 - val_accuracy: 0.6834\n",
            "Epoch 6/500\n",
            "1000/1000 [==============================] - 11s 11ms/step - loss: 0.8430 - accuracy: 0.7040 - val_loss: 0.9023 - val_accuracy: 0.6878\n",
            "Epoch 7/500\n",
            "1000/1000 [==============================] - 12s 12ms/step - loss: 0.8031 - accuracy: 0.7166 - val_loss: 0.8738 - val_accuracy: 0.6945\n",
            "Epoch 8/500\n",
            "1000/1000 [==============================] - 11s 11ms/step - loss: 0.7534 - accuracy: 0.7334 - val_loss: 0.9114 - val_accuracy: 0.6870\n",
            "Epoch 9/500\n",
            "1000/1000 [==============================] - 12s 12ms/step - loss: 0.7221 - accuracy: 0.7440 - val_loss: 0.8743 - val_accuracy: 0.6977\n",
            "Epoch 10/500\n",
            "1000/1000 [==============================] - 11s 11ms/step - loss: 0.6906 - accuracy: 0.7539 - val_loss: 0.8697 - val_accuracy: 0.7007\n",
            "Epoch 11/500\n",
            "1000/1000 [==============================] - 11s 11ms/step - loss: 0.6581 - accuracy: 0.7645 - val_loss: 0.8869 - val_accuracy: 0.7039\n",
            "Epoch 12/500\n",
            "1000/1000 [==============================] - 11s 11ms/step - loss: 0.6281 - accuracy: 0.7754 - val_loss: 0.8763 - val_accuracy: 0.7062\n",
            "Epoch 13/500\n",
            "1000/1000 [==============================] - 12s 12ms/step - loss: 0.6014 - accuracy: 0.7824 - val_loss: 0.8842 - val_accuracy: 0.7111\n",
            "Epoch 14/500\n",
            "1000/1000 [==============================] - 12s 12ms/step - loss: 0.5766 - accuracy: 0.7927 - val_loss: 0.8899 - val_accuracy: 0.7086\n",
            "Epoch 15/500\n",
            "1000/1000 [==============================] - 12s 12ms/step - loss: 0.5533 - accuracy: 0.7995 - val_loss: 0.9169 - val_accuracy: 0.7063\n",
            "Epoch 16/500\n",
            "1000/1000 [==============================] - 11s 11ms/step - loss: 0.5293 - accuracy: 0.8097 - val_loss: 0.9411 - val_accuracy: 0.6986\n",
            "Epoch 17/500\n",
            "1000/1000 [==============================] - 11s 12ms/step - loss: 0.5092 - accuracy: 0.8148 - val_loss: 0.9638 - val_accuracy: 0.7085\n",
            "Epoch 18/500\n",
            "1000/1000 [==============================] - 11s 11ms/step - loss: 0.4842 - accuracy: 0.8221 - val_loss: 0.9674 - val_accuracy: 0.7049\n",
            "Epoch 00018: early stopping\n"
          ]
        }
      ]
    },
    {
      "cell_type": "code",
      "metadata": {
        "colab": {
          "base_uri": "https://localhost:8080/"
        },
        "id": "0-7is2U49A6Z",
        "outputId": "a659b19a-f0b9-414f-921b-572500835323"
      },
      "source": [
        "c2f2.evaluate(X_test, y_test, batch_size = BATCH_SIZE)"
      ],
      "execution_count": 14,
      "outputs": [
        {
          "output_type": "stream",
          "name": "stdout",
          "text": [
            "200/200 [==============================] - 1s 5ms/step - loss: 0.9674 - accuracy: 0.7049\n"
          ]
        },
        {
          "output_type": "execute_result",
          "data": {
            "text/plain": [
              "[0.9674344658851624, 0.7049000263214111]"
            ]
          },
          "metadata": {},
          "execution_count": 14
        }
      ]
    },
    {
      "cell_type": "code",
      "metadata": {
        "colab": {
          "base_uri": "https://localhost:8080/",
          "height": 295
        },
        "id": "x9EQ2Z_c2gYL",
        "outputId": "c8e06135-16c5-4f81-b537-21f4576cfd5f"
      },
      "source": [
        "# More graphs of loss and accuracy\n",
        "history_dict = hist.history\n",
        "loss = history_dict['loss']\n",
        "val_loss = history_dict['val_loss']\n",
        "\n",
        "epochs = range(1, len(loss) + 1)\n",
        "\n",
        "plt.figure(figsize=(14, 4))\n",
        "\n",
        "plt.subplot(1,2,1)\n",
        "plt.plot(epochs, loss, 'go-', label='Training Loss')\n",
        "plt.plot(epochs, val_loss, 'bd', label='Validation Loss')\n",
        "plt.plot(np.argmin(np.array(val_loss))+1,val_loss[np.argmin(np.array(val_loss))], 'r*', ms=12)\n",
        "plt.title('Training and Validation Loss, min: ' + str(np.round(val_loss[np.argmin(np.array(val_loss))],4)))\n",
        "plt.xlabel('Epochs')\n",
        "plt.ylabel('Loss')\n",
        "plt.legend()\n",
        "\n",
        "acc = history_dict['accuracy']\n",
        "val_acc = history_dict['val_accuracy']\n",
        "\n",
        "epochs = range(1, len(loss) + 1)\n",
        "\n",
        "plt.subplot(1,2,2)\n",
        "plt.plot(epochs, acc, 'go-', label='Training Accuracy') #, c='blue')\n",
        "plt.plot(epochs, val_acc, 'bd', label='Validation Accuracy') #, c='red')\n",
        "plt.plot(np.argmax(np.array(val_acc))+1,val_acc[np.argmax(np.array(val_acc))], 'r*', ms=12)\n",
        "plt.title('Training and Validation Accuracy, max: ' + str(np.round(val_acc[np.argmax(np.array(val_acc))],4)))\n",
        "plt.xlabel('Epochs')\n",
        "plt.ylabel('Accuracy')\n",
        "plt.legend()\n",
        "plt.show()"
      ],
      "execution_count": 15,
      "outputs": [
        {
          "output_type": "display_data",
          "data": {
            "image/png": "[encoded data removed]",
            "text/plain": [
              "<Figure size 1008x288 with 2 Axes>"
            ]
          },
          "metadata": {
            "needs_background": "light"
          }
        }
      ]
    },
    {
      "cell_type": "markdown",
      "metadata": {
        "id": "ubm5q_onsVrv"
      },
      "source": [
        "## Best c2f2 model of cifar10\n",
        "- cifar10_c2f2_best_weights.012-0.7074.hdf5"
      ]
    },
    {
      "cell_type": "markdown",
      "metadata": {
        "id": "SUJxRQtafihM"
      },
      "source": [
        "## **CNN2 + FCN3**"
      ]
    },
    {
      "cell_type": "code",
      "metadata": {
        "id": "9Pzdv-CDsVrv"
      },
      "source": [
        "# Random number seed\n",
        "np.random.seed(1234)\n",
        "tf.random.set_seed(1234)"
      ],
      "execution_count": 16,
      "outputs": []
    },
    {
      "cell_type": "code",
      "metadata": {
        "id": "Nl5CyAymAB34"
      },
      "source": [
        "c2f3 = keras.models.Sequential([ \n",
        "    Conv2D(input_shape=(32,32,3), filters= 64, kernel_size=(3,3), strides=(1,1), padding='same', activation='relu'),\n",
        "    MaxPool2D(pool_size=(2,2), strides=(2,2)), \n",
        "    Conv2D(filters= 32, kernel_size=(3,3), strides=(1,1), padding='same', activation='relu'),\n",
        "    MaxPool2D(pool_size=(2,2), strides=(2,2)),\n",
        "    Flatten(), \n",
        "    keras.layers.Dense(128, activation='relu'),  \n",
        "    keras.layers.Dropout(0.25), \n",
        "    keras.layers.Dense(64, activation='relu'),  \n",
        "    keras.layers.Dropout(0.25), \n",
        "    keras.layers.Dense(10, activation='softmax')\n",
        "])\n",
        "\n",
        "c2f3.compile(optimizer='adam',\n",
        "              loss='categorical_crossentropy',\n",
        "              metrics=['accuracy']) "
      ],
      "execution_count": 17,
      "outputs": []
    },
    {
      "cell_type": "code",
      "metadata": {
        "colab": {
          "base_uri": "https://localhost:8080/"
        },
        "id": "gYxuGW_2ANL8",
        "outputId": "526cbd7a-6fd1-4cc7-8723-03848fb938b1"
      },
      "source": [
        "c2f3.summary()"
      ],
      "execution_count": 18,
      "outputs": [
        {
          "output_type": "stream",
          "name": "stdout",
          "text": [
            "Model: \"sequential_1\"\n",
            "_________________________________________________________________\n",
            " Layer (type)                Output Shape              Param #   \n",
            "=================================================================\n",
            " conv2d_2 (Conv2D)           (None, 32, 32, 64)        1792      \n",
            "                                                                 \n",
            " max_pooling2d_2 (MaxPooling  (None, 16, 16, 64)       0         \n",
            " 2D)                                                             \n",
            "                                                                 \n",
            " conv2d_3 (Conv2D)           (None, 16, 16, 32)        18464     \n",
            "                                                                 \n",
            " max_pooling2d_3 (MaxPooling  (None, 8, 8, 32)         0         \n",
            " 2D)                                                             \n",
            "                                                                 \n",
            " flatten_1 (Flatten)         (None, 2048)              0         \n",
            "                                                                 \n",
            " dense_2 (Dense)             (None, 128)               262272    \n",
            "                                                                 \n",
            " dropout_1 (Dropout)         (None, 128)               0         \n",
            "                                                                 \n",
            " dense_3 (Dense)             (None, 64)                8256      \n",
            "                                                                 \n",
            " dropout_2 (Dropout)         (None, 64)                0         \n",
            "                                                                 \n",
            " dense_4 (Dense)             (None, 10)                650       \n",
            "                                                                 \n",
            "=================================================================\n",
            "Total params: 291,434\n",
            "Trainable params: 291,434\n",
            "Non-trainable params: 0\n",
            "_________________________________________________________________\n"
          ]
        }
      ]
    },
    {
      "cell_type": "code",
      "metadata": {
        "id": "KMsTuhO2x61z"
      },
      "source": [
        "cp_callback = callbacks.ModelCheckpoint(filepath=\"./cifar10_c2f3_best_weights.{epoch:03d}-{val_accuracy:.4f}.hdf5\", \n",
        "                              monitor='val_accuracy', verbose=0, save_best_only=True)\n",
        "es_callback = callbacks.EarlyStopping(monitor='val_accuracy', \n",
        "                            mode='max', verbose=1, patience=5)    # patience=10, 25, 50"
      ],
      "execution_count": 19,
      "outputs": []
    },
    {
      "cell_type": "code",
      "metadata": {
        "colab": {
          "base_uri": "https://localhost:8080/"
        },
        "id": "lO1of4AOAQlV",
        "outputId": "cda6eab0-f54a-4641-c8d2-cf76603ba887"
      },
      "source": [
        "hist = c2f3.fit(X_train, y_train, epochs=500, batch_size = BATCH_SIZE, \n",
        "         callbacks=[cp_callback, es_callback], \n",
        "         validation_data=(X_test,y_test))"
      ],
      "execution_count": 20,
      "outputs": [
        {
          "output_type": "stream",
          "name": "stdout",
          "text": [
            "Epoch 1/500\n",
            "1000/1000 [==============================] - 13s 12ms/step - loss: 1.6209 - accuracy: 0.4067 - val_loss: 1.2368 - val_accuracy: 0.5562\n",
            "Epoch 2/500\n",
            "1000/1000 [==============================] - 12s 12ms/step - loss: 1.2569 - accuracy: 0.5538 - val_loss: 1.1264 - val_accuracy: 0.5975\n",
            "Epoch 3/500\n",
            "1000/1000 [==============================] - 12s 12ms/step - loss: 1.1140 - accuracy: 0.6081 - val_loss: 1.0019 - val_accuracy: 0.6481\n",
            "Epoch 4/500\n",
            "1000/1000 [==============================] - 12s 12ms/step - loss: 1.0151 - accuracy: 0.6466 - val_loss: 0.9551 - val_accuracy: 0.6698\n",
            "Epoch 5/500\n",
            "1000/1000 [==============================] - 12s 12ms/step - loss: 0.9460 - accuracy: 0.6718 - val_loss: 0.9124 - val_accuracy: 0.6875\n",
            "Epoch 6/500\n",
            "1000/1000 [==============================] - 13s 13ms/step - loss: 0.8907 - accuracy: 0.6889 - val_loss: 0.8885 - val_accuracy: 0.6925\n",
            "Epoch 7/500\n",
            "1000/1000 [==============================] - 13s 13ms/step - loss: 0.8418 - accuracy: 0.7090 - val_loss: 0.8873 - val_accuracy: 0.6932\n",
            "Epoch 8/500\n",
            "1000/1000 [==============================] - 12s 12ms/step - loss: 0.7995 - accuracy: 0.7199 - val_loss: 0.8785 - val_accuracy: 0.7018\n",
            "Epoch 9/500\n",
            "1000/1000 [==============================] - 12s 12ms/step - loss: 0.7629 - accuracy: 0.7340 - val_loss: 0.8791 - val_accuracy: 0.7004\n",
            "Epoch 10/500\n",
            "1000/1000 [==============================] - 12s 12ms/step - loss: 0.7261 - accuracy: 0.7460 - val_loss: 0.8621 - val_accuracy: 0.7077\n",
            "Epoch 11/500\n",
            "1000/1000 [==============================] - 12s 12ms/step - loss: 0.6990 - accuracy: 0.7541 - val_loss: 0.8805 - val_accuracy: 0.7016\n",
            "Epoch 12/500\n",
            "1000/1000 [==============================] - 12s 12ms/step - loss: 0.6689 - accuracy: 0.7639 - val_loss: 0.8918 - val_accuracy: 0.7040\n",
            "Epoch 13/500\n",
            "1000/1000 [==============================] - 12s 12ms/step - loss: 0.6399 - accuracy: 0.7745 - val_loss: 0.8648 - val_accuracy: 0.7177\n",
            "Epoch 14/500\n",
            "1000/1000 [==============================] - 12s 12ms/step - loss: 0.6202 - accuracy: 0.7795 - val_loss: 0.8802 - val_accuracy: 0.7163\n",
            "Epoch 15/500\n",
            "1000/1000 [==============================] - 12s 12ms/step - loss: 0.6000 - accuracy: 0.7869 - val_loss: 0.8926 - val_accuracy: 0.7165\n",
            "Epoch 16/500\n",
            "1000/1000 [==============================] - 12s 12ms/step - loss: 0.5782 - accuracy: 0.7945 - val_loss: 0.8945 - val_accuracy: 0.7132\n",
            "Epoch 17/500\n",
            "1000/1000 [==============================] - 12s 12ms/step - loss: 0.5596 - accuracy: 0.8030 - val_loss: 0.9366 - val_accuracy: 0.7096\n",
            "Epoch 18/500\n",
            "1000/1000 [==============================] - 12s 12ms/step - loss: 0.5390 - accuracy: 0.8092 - val_loss: 0.9079 - val_accuracy: 0.7168\n",
            "Epoch 00018: early stopping\n"
          ]
        }
      ]
    },
    {
      "cell_type": "code",
      "metadata": {
        "colab": {
          "base_uri": "https://localhost:8080/"
        },
        "id": "W-eIxCasDBil",
        "outputId": "577f41dc-0b9c-408d-c589-1f6cd836c29a"
      },
      "source": [
        " c2f3.evaluate(X_test, y_test, batch_size = BATCH_SIZE)"
      ],
      "execution_count": 21,
      "outputs": [
        {
          "output_type": "stream",
          "name": "stdout",
          "text": [
            "200/200 [==============================] - 1s 5ms/step - loss: 0.9079 - accuracy: 0.7168\n"
          ]
        },
        {
          "output_type": "execute_result",
          "data": {
            "text/plain": [
              "[0.9079271554946899, 0.7167999744415283]"
            ]
          },
          "metadata": {},
          "execution_count": 21
        }
      ]
    },
    {
      "cell_type": "code",
      "metadata": {
        "colab": {
          "base_uri": "https://localhost:8080/",
          "height": 295
        },
        "id": "Xuw_jhKQsVrx",
        "outputId": "4ff15160-ba48-4e1c-d3a1-df0e55902c74"
      },
      "source": [
        "# More graphs of loss and accuracy\n",
        "history_dict = hist.history\n",
        "loss = history_dict['loss']\n",
        "val_loss = history_dict['val_loss']\n",
        "\n",
        "epochs = range(1, len(loss) + 1)\n",
        "\n",
        "plt.figure(figsize=(14, 4))\n",
        "\n",
        "plt.subplot(1,2,1)\n",
        "plt.plot(epochs, loss, 'go-', label='Training Loss')\n",
        "plt.plot(epochs, val_loss, 'bd', label='Validation Loss')\n",
        "plt.plot(np.argmin(np.array(val_loss))+1,val_loss[np.argmin(np.array(val_loss))], 'r*', ms=12)\n",
        "plt.title('Training and Validation Loss, min: ' + str(np.round(val_loss[np.argmin(np.array(val_loss))],4)))\n",
        "plt.xlabel('Epochs')\n",
        "plt.ylabel('Loss')\n",
        "plt.legend()\n",
        "\n",
        "acc = history_dict['accuracy']\n",
        "val_acc = history_dict['val_accuracy']\n",
        "\n",
        "epochs = range(1, len(loss) + 1)\n",
        "\n",
        "plt.subplot(1,2,2)\n",
        "plt.plot(epochs, acc, 'go-', label='Training Accuracy') #, c='blue')\n",
        "plt.plot(epochs, val_acc, 'bd', label='Validation Accuracy') #, c='red')\n",
        "plt.plot(np.argmax(np.array(val_acc))+1,val_acc[np.argmax(np.array(val_acc))], 'r*', ms=12)\n",
        "plt.title('Training and Validation Accuracy, max: ' + str(np.round(val_acc[np.argmax(np.array(val_acc))],4)))\n",
        "plt.xlabel('Epochs')\n",
        "plt.ylabel('Accuracy')\n",
        "plt.legend()\n",
        "plt.show()"
      ],
      "execution_count": 22,
      "outputs": [
        {
          "output_type": "display_data",
          "data": {
            "image/png": "[encoded data removed]",
            "text/plain": [
              "<Figure size 1008x288 with 2 Axes>"
            ]
          },
          "metadata": {
            "needs_background": "light"
          }
        }
      ]
    },
    {
      "cell_type": "markdown",
      "metadata": {
        "id": "J316fZ9GsVrx"
      },
      "source": [
        "## Best c2f3 model of cifar10\n",
        "- cifar10_c2f3_best_weights.013-0.7161.hdf5"
      ]
    },
    {
      "cell_type": "markdown",
      "metadata": {
        "id": "5XYSVtC-DVsz"
      },
      "source": [
        "# **[DIY] Hidden layer에 따른 정확도**"
      ]
    },
    {
      "cell_type": "code",
      "metadata": {
        "colab": {
          "base_uri": "https://localhost:8080/"
        },
        "id": "OiCc_UO2rGmp",
        "outputId": "6b5b5f27-8e49-4489-89bd-c7115e85c53e"
      },
      "source": [
        "score1=c2f2.evaluate(X_test, y_test, batch_size = BATCH_SIZE)\n",
        "score2=c2f3.evaluate(X_test, y_test, batch_size = BATCH_SIZE)\n",
        "losses = [score1[0],score2[0]]\n",
        "accuracies= [score1[1],score2[1]]\n",
        "losses,accuracies"
      ],
      "execution_count": 23,
      "outputs": [
        {
          "output_type": "stream",
          "name": "stdout",
          "text": [
            "200/200 [==============================] - 1s 5ms/step - loss: 0.9674 - accuracy: 0.7049\n",
            "200/200 [==============================] - 1s 5ms/step - loss: 0.9079 - accuracy: 0.7168\n"
          ]
        },
        {
          "output_type": "execute_result",
          "data": {
            "text/plain": [
              "([0.9674344658851624, 0.9079271554946899],\n",
              " [0.7049000263214111, 0.7167999744415283])"
            ]
          },
          "metadata": {},
          "execution_count": 23
        }
      ]
    },
    {
      "cell_type": "code",
      "metadata": {
        "colab": {
          "base_uri": "https://localhost:8080/",
          "height": 269
        },
        "id": "vZv6a2aVRw9j",
        "outputId": "fd44ff76-76f4-4f02-c3e2-1236bdbb68ea"
      },
      "source": [
        "x = np.arange(2)\n",
        "cnns = ['C2F2','C2F3']\n",
        "\n",
        "plt.bar(x, accuracies)\n",
        "plt.xticks(x, cnns)\n",
        "plt.ylim((.5,1.0))\n",
        "plt.show()"
      ],
      "execution_count": 24,
      "outputs": [
        {
          "output_type": "display_data",
          "data": {
            "image/png": "[encoded data removed]",
            "text/plain": [
              "<Figure size 432x288 with 1 Axes>"
            ]
          },
          "metadata": {
            "needs_background": "light"
          }
        }
      ]
    },
    {
      "cell_type": "markdown",
      "metadata": {
        "id": "63oPbpPejqOj"
      },
      "source": [
        "## Complex model\n",
        "- C4F5 model\n",
        "\n",
        "![cnn_c4f5.png](https://raw.githubusercontent.com/Redwoods/Py/master//pdm2020/my-note/py-tensorflow/images/cnn_c4f5.png)"
      ]
    },
    {
      "cell_type": "code",
      "metadata": {
        "id": "CW873nSFiXYp"
      },
      "source": [
        "# Random number seed\n",
        "np.random.seed(1234)\n",
        "tf.random.set_seed(1234)"
      ],
      "execution_count": 25,
      "outputs": []
    },
    {
      "cell_type": "code",
      "metadata": {
        "id": "kSN8pq8DkQ6B"
      },
      "source": [
        "c4f5 = keras.models.Sequential([ \n",
        "    Conv2D(input_shape=(32,32,3), filters= 64, kernel_size=(3,3),strides=(1,1), padding='same',activation='relu'),\n",
        "    MaxPool2D(pool_size=(2,2), strides=(2,2)), \n",
        "    Conv2D(filters= 128, kernel_size=(3,3), strides=(1,1), padding='same',activation='relu'),\n",
        "    MaxPool2D(pool_size=(2,2), strides=(2,2)),\n",
        "    Conv2D(filters= 256, kernel_size=(3,3), strides=(1,1), padding='same',activation='relu'),\n",
        "    MaxPool2D(pool_size=(2,2), strides=(2,2)),\n",
        "    Conv2D(filters= 512, kernel_size=(3,3), strides=(1,1), padding='same',activation='relu'),\n",
        "    MaxPool2D(pool_size=(2,2), strides=(2,2)),\n",
        "    Flatten(), \n",
        "    keras.layers.Dense(128, activation='relu'),  \n",
        "    keras.layers.Dropout(0.25), \n",
        "    keras.layers.Dense(256, activation='relu'),  \n",
        "    keras.layers.Dropout(0.25), \n",
        "    keras.layers.Dense(512, activation='relu'),  \n",
        "    keras.layers.Dropout(0.25), \n",
        "    keras.layers.Dense(1024, activation='relu'),  \n",
        "    keras.layers.Dropout(0.25), \n",
        "    keras.layers.Dense(10, activation='softmax')\n",
        "])\n",
        "\n",
        "c4f5.compile(optimizer='adam',\n",
        "              loss='categorical_crossentropy',\n",
        "              metrics=['accuracy']) "
      ],
      "execution_count": 26,
      "outputs": []
    },
    {
      "cell_type": "code",
      "metadata": {
        "colab": {
          "base_uri": "https://localhost:8080/"
        },
        "id": "k7qWzpLRkQ6C",
        "outputId": "63bfa32c-980d-4cf0-9d68-91fce7857a72"
      },
      "source": [
        "c4f5.summary()"
      ],
      "execution_count": 27,
      "outputs": [
        {
          "output_type": "stream",
          "name": "stdout",
          "text": [
            "Model: \"sequential_2\"\n",
            "_________________________________________________________________\n",
            " Layer (type)                Output Shape              Param #   \n",
            "=================================================================\n",
            " conv2d_4 (Conv2D)           (None, 32, 32, 64)        1792      \n",
            "                                                                 \n",
            " max_pooling2d_4 (MaxPooling  (None, 16, 16, 64)       0         \n",
            " 2D)                                                             \n",
            "                                                                 \n",
            " conv2d_5 (Conv2D)           (None, 16, 16, 128)       73856     \n",
            "                                                                 \n",
            " max_pooling2d_5 (MaxPooling  (None, 8, 8, 128)        0         \n",
            " 2D)                                                             \n",
            "                                                                 \n",
            " conv2d_6 (Conv2D)           (None, 8, 8, 256)         295168    \n",
            "                                                                 \n",
            " max_pooling2d_6 (MaxPooling  (None, 4, 4, 256)        0         \n",
            " 2D)                                                             \n",
            "                                                                 \n",
            " conv2d_7 (Conv2D)           (None, 4, 4, 512)         1180160   \n",
            "                                                                 \n",
            " max_pooling2d_7 (MaxPooling  (None, 2, 2, 512)        0         \n",
            " 2D)                                                             \n",
            "                                                                 \n",
            " flatten_2 (Flatten)         (None, 2048)              0         \n",
            "                                                                 \n",
            " dense_5 (Dense)             (None, 128)               262272    \n",
            "                                                                 \n",
            " dropout_3 (Dropout)         (None, 128)               0         \n",
            "                                                                 \n",
            " dense_6 (Dense)             (None, 256)               33024     \n",
            "                                                                 \n",
            " dropout_4 (Dropout)         (None, 256)               0         \n",
            "                                                                 \n",
            " dense_7 (Dense)             (None, 512)               131584    \n",
            "                                                                 \n",
            " dropout_5 (Dropout)         (None, 512)               0         \n",
            "                                                                 \n",
            " dense_8 (Dense)             (None, 1024)              525312    \n",
            "                                                                 \n",
            " dropout_6 (Dropout)         (None, 1024)              0         \n",
            "                                                                 \n",
            " dense_9 (Dense)             (None, 10)                10250     \n",
            "                                                                 \n",
            "=================================================================\n",
            "Total params: 2,513,418\n",
            "Trainable params: 2,513,418\n",
            "Non-trainable params: 0\n",
            "_________________________________________________________________\n"
          ]
        }
      ]
    },
    {
      "cell_type": "code",
      "metadata": {
        "id": "-pKJWy-2kQ6C"
      },
      "source": [
        "cp_callback = callbacks.ModelCheckpoint(filepath=\"./cifar10_c4f5_best_weights.{epoch:03d}-{val_accuracy:.4f}.hdf5\", \n",
        "                              monitor='val_accuracy', verbose=0, save_best_only=True)\n",
        "es_callback = callbacks.EarlyStopping(monitor='val_accuracy', \n",
        "                            mode='max', verbose=1, patience=5)    # patience=10, 25, 50"
      ],
      "execution_count": 28,
      "outputs": []
    },
    {
      "cell_type": "code",
      "metadata": {
        "colab": {
          "base_uri": "https://localhost:8080/"
        },
        "id": "wKdgr9EskQ6C",
        "outputId": "9bbee763-2580-42e3-b85a-ef90a2812f28"
      },
      "source": [
        "hist = c4f5.fit(X_train, y_train, epochs=500, batch_size = BATCH_SIZE, \n",
        "         callbacks=[cp_callback, es_callback], \n",
        "         validation_data=(X_test,y_test))"
      ],
      "execution_count": 29,
      "outputs": [
        {
          "output_type": "stream",
          "name": "stdout",
          "text": [
            "Epoch 1/500\n",
            "1000/1000 [==============================] - 24s 22ms/step - loss: 1.6514 - accuracy: 0.3652 - val_loss: 1.2345 - val_accuracy: 0.5546\n",
            "Epoch 2/500\n",
            "1000/1000 [==============================] - 22s 22ms/step - loss: 1.1874 - accuracy: 0.5760 - val_loss: 1.0455 - val_accuracy: 0.6331\n",
            "Epoch 3/500\n",
            "1000/1000 [==============================] - 22s 22ms/step - loss: 0.9814 - accuracy: 0.6619 - val_loss: 0.9021 - val_accuracy: 0.6892\n",
            "Epoch 4/500\n",
            "1000/1000 [==============================] - 22s 22ms/step - loss: 0.8540 - accuracy: 0.7103 - val_loss: 0.8937 - val_accuracy: 0.7022\n",
            "Epoch 5/500\n",
            "1000/1000 [==============================] - 22s 22ms/step - loss: 0.7505 - accuracy: 0.7498 - val_loss: 0.8262 - val_accuracy: 0.7241\n",
            "Epoch 6/500\n",
            "1000/1000 [==============================] - 22s 22ms/step - loss: 0.6672 - accuracy: 0.7780 - val_loss: 0.8184 - val_accuracy: 0.7267\n",
            "Epoch 7/500\n",
            "1000/1000 [==============================] - 22s 22ms/step - loss: 0.5973 - accuracy: 0.8024 - val_loss: 0.8197 - val_accuracy: 0.7378\n",
            "Epoch 8/500\n",
            "1000/1000 [==============================] - 22s 22ms/step - loss: 0.5350 - accuracy: 0.8231 - val_loss: 0.8113 - val_accuracy: 0.7371\n",
            "Epoch 9/500\n",
            "1000/1000 [==============================] - 22s 22ms/step - loss: 0.4808 - accuracy: 0.8419 - val_loss: 0.8355 - val_accuracy: 0.7439\n",
            "Epoch 10/500\n",
            "1000/1000 [==============================] - 22s 22ms/step - loss: 0.4425 - accuracy: 0.8549 - val_loss: 0.8394 - val_accuracy: 0.7344\n",
            "Epoch 11/500\n",
            "1000/1000 [==============================] - 22s 22ms/step - loss: 0.4074 - accuracy: 0.8680 - val_loss: 0.8755 - val_accuracy: 0.7351\n",
            "Epoch 12/500\n",
            "1000/1000 [==============================] - 22s 22ms/step - loss: 0.3705 - accuracy: 0.8820 - val_loss: 0.9760 - val_accuracy: 0.7230\n",
            "Epoch 13/500\n",
            "1000/1000 [==============================] - 22s 22ms/step - loss: 0.3502 - accuracy: 0.8890 - val_loss: 0.9909 - val_accuracy: 0.7289\n",
            "Epoch 14/500\n",
            "1000/1000 [==============================] - 22s 22ms/step - loss: 0.3206 - accuracy: 0.8983 - val_loss: 0.9055 - val_accuracy: 0.7445\n",
            "Epoch 15/500\n",
            "1000/1000 [==============================] - 22s 22ms/step - loss: 0.2923 - accuracy: 0.9073 - val_loss: 1.0077 - val_accuracy: 0.7440\n",
            "Epoch 16/500\n",
            "1000/1000 [==============================] - 22s 22ms/step - loss: 0.2705 - accuracy: 0.9159 - val_loss: 1.0341 - val_accuracy: 0.7333\n",
            "Epoch 17/500\n",
            "1000/1000 [==============================] - 22s 22ms/step - loss: 0.2662 - accuracy: 0.9171 - val_loss: 1.0115 - val_accuracy: 0.7364\n",
            "Epoch 18/500\n",
            "1000/1000 [==============================] - 22s 22ms/step - loss: 0.2502 - accuracy: 0.9229 - val_loss: 1.0513 - val_accuracy: 0.7343\n",
            "Epoch 19/500\n",
            "1000/1000 [==============================] - 21s 22ms/step - loss: 0.2309 - accuracy: 0.9293 - val_loss: 1.1221 - val_accuracy: 0.7442\n",
            "Epoch 00019: early stopping\n"
          ]
        }
      ]
    },
    {
      "cell_type": "code",
      "metadata": {
        "colab": {
          "base_uri": "https://localhost:8080/"
        },
        "id": "jfwYHBexkQ6D",
        "outputId": "34b2bb04-4487-4b03-96c8-a0f15535d1cb"
      },
      "source": [
        " c4f5.evaluate(X_test, y_test, batch_size = BATCH_SIZE)"
      ],
      "execution_count": 30,
      "outputs": [
        {
          "output_type": "stream",
          "name": "stdout",
          "text": [
            "200/200 [==============================] - 1s 7ms/step - loss: 1.1221 - accuracy: 0.7442\n"
          ]
        },
        {
          "output_type": "execute_result",
          "data": {
            "text/plain": [
              "[1.1221249103546143, 0.7441999912261963]"
            ]
          },
          "metadata": {},
          "execution_count": 30
        }
      ]
    },
    {
      "cell_type": "markdown",
      "metadata": {
        "id": "3Ub3qGnjs4EI"
      },
      "source": [
        "## Graph of loss and accuracy\n",
        "- model: C4f5"
      ]
    },
    {
      "cell_type": "code",
      "metadata": {
        "colab": {
          "base_uri": "https://localhost:8080/",
          "height": 295
        },
        "id": "N_zYFwbwsVr0",
        "outputId": "43f67b92-92b3-4f6c-cef3-4a30db795f8a"
      },
      "source": [
        "# More graphs of loss and accuracy\n",
        "history_dict = hist.history\n",
        "loss = history_dict['loss']\n",
        "val_loss = history_dict['val_loss']\n",
        "\n",
        "epochs = range(1, len(loss) + 1)\n",
        "\n",
        "plt.figure(figsize=(14, 4))\n",
        "\n",
        "plt.subplot(1,2,1)\n",
        "plt.plot(epochs, loss, 'go-', label='Training Loss')\n",
        "plt.plot(epochs, val_loss, 'bd', label='Validation Loss')\n",
        "plt.plot(np.argmin(np.array(val_loss))+1,val_loss[np.argmin(np.array(val_loss))], 'r*', ms=12)\n",
        "plt.title('Training and Validation Loss, min: ' + str(np.round(val_loss[np.argmin(np.array(val_loss))],4)))\n",
        "plt.xlabel('Epochs')\n",
        "plt.ylabel('Loss')\n",
        "plt.legend()\n",
        "\n",
        "acc = history_dict['accuracy']\n",
        "val_acc = history_dict['val_accuracy']\n",
        "\n",
        "epochs = range(1, len(loss) + 1)\n",
        "\n",
        "plt.subplot(1,2,2)\n",
        "plt.plot(epochs, acc, 'go-', label='Training Accuracy') #, c='blue')\n",
        "plt.plot(epochs, val_acc, 'bd', label='Validation Accuracy') #, c='red')\n",
        "plt.plot(np.argmax(np.array(val_acc))+1,val_acc[np.argmax(np.array(val_acc))], 'r*', ms=12)\n",
        "plt.title('Training and Validation Accuracy, max: ' + str(np.round(val_acc[np.argmax(np.array(val_acc))],4)))\n",
        "plt.xlabel('Epochs')\n",
        "plt.ylabel('Accuracy')\n",
        "plt.legend()\n",
        "plt.show()"
      ],
      "execution_count": 31,
      "outputs": [
        {
          "output_type": "display_data",
          "data": {
            "image/png": "[encoded data removed]",
            "text/plain": [
              "<Figure size 1008x288 with 2 Axes>"
            ]
          },
          "metadata": {
            "needs_background": "light"
          }
        }
      ]
    },
    {
      "cell_type": "markdown",
      "metadata": {
        "id": "97G08isfsVr0"
      },
      "source": [
        "## Best c4f5 model of cifar10\n",
        "- cifar10_c4f5_best_weights.014-0.7465.hdf5"
      ]
    },
    {
      "cell_type": "markdown",
      "metadata": {
        "id": "gBPKMI4y3fsa"
      },
      "source": [
        "## 모형의 저장\n",
        "\n",
        "- 트레이닝이 끝난 모형은 save 메서드로 가중치와 함께 hdf5 형식으로 저장\n",
        "- load 명령으로 불러 사용"
      ]
    },
    {
      "cell_type": "markdown",
      "metadata": {
        "id": "r7-KSSrCsVr0"
      },
      "source": [
        "## Best model\n",
        "- cifar10_c4f5_best_weights.010-0.7446.hdf5"
      ]
    },
    {
      "cell_type": "code",
      "metadata": {
        "colab": {
          "base_uri": "https://localhost:8080/"
        },
        "id": "b7-ysIVy3fse",
        "outputId": "0a990f0a-666e-4a75-aecd-317364eb9329"
      },
      "source": [
        "from keras.models import load_model\n",
        "\n",
        "model_best = load_model('cifar10_c4f5_best_weights.014-0.7445.hdf5')\n",
        "model_best.evaluate(X_test, y_test, batch_size=BATCH_SIZE)"
      ],
      "execution_count": 33,
      "outputs": [
        {
          "output_type": "stream",
          "name": "stdout",
          "text": [
            "200/200 [==============================] - 2s 9ms/step - loss: 0.9055 - accuracy: 0.7445\n"
          ]
        },
        {
          "output_type": "execute_result",
          "data": {
            "text/plain": [
              "[0.9055261611938477, 0.7444999814033508]"
            ]
          },
          "metadata": {},
          "execution_count": 33
        }
      ]
    },
    {
      "cell_type": "markdown",
      "metadata": {
        "id": "KF3UzDJotZrh"
      },
      "source": [
        "## Confusion matrix"
      ]
    },
    {
      "cell_type": "code",
      "metadata": {
        "id": "RV1IaOyeu6Em"
      },
      "source": [
        "from sklearn.metrics import confusion_matrix\n",
        "import seaborn as sns"
      ],
      "execution_count": 34,
      "outputs": []
    },
    {
      "cell_type": "code",
      "metadata": {
        "id": "Bxs1eC-cuO0Y"
      },
      "source": [
        "predictions = model_best.predict(X_test)"
      ],
      "execution_count": 35,
      "outputs": []
    },
    {
      "cell_type": "code",
      "metadata": {
        "colab": {
          "base_uri": "https://localhost:8080/"
        },
        "id": "nZch1JFSufoR",
        "outputId": "732ee76b-8e3a-43d8-9f85-fdda9a3f9741"
      },
      "source": [
        "predictions0 = np.argmax(predictions, axis=1)\n",
        "predictions0.shape"
      ],
      "execution_count": 36,
      "outputs": [
        {
          "output_type": "execute_result",
          "data": {
            "text/plain": [
              "(10000,)"
            ]
          },
          "metadata": {},
          "execution_count": 36
        }
      ]
    },
    {
      "cell_type": "code",
      "metadata": {
        "id": "hiPMQeYXt12l"
      },
      "source": [
        "cm = confusion_matrix(y_test0, predictions0)"
      ],
      "execution_count": 37,
      "outputs": []
    },
    {
      "cell_type": "code",
      "metadata": {
        "id": "YITaGwYjvatc"
      },
      "source": [
        "class_names = ['airplane', 'automobile', 'bird', 'cat', 'deer', 'dog', 'frog', 'horse', 'ship', 'truck']"
      ],
      "execution_count": 38,
      "outputs": []
    },
    {
      "cell_type": "code",
      "metadata": {
        "colab": {
          "base_uri": "https://localhost:8080/",
          "height": 551
        },
        "id": "2qGHMNU3u8ut",
        "outputId": "b1c26efa-a626-4bdf-e8d9-4ca5f800682c"
      },
      "source": [
        "plt.figure(figsize=(9,9))\n",
        "sns.heatmap(cm, cbar=False, xticklabels=class_names, yticklabels=class_names, fmt='d', annot=True, cmap=plt.cm.coolwarm)\n",
        "plt.xlabel('Predicted')\n",
        "plt.ylabel('Actual')\n",
        "plt.show()"
      ],
      "execution_count": 39,
      "outputs": [
        {
          "output_type": "display_data",
          "data": {
            "image/png": "[encoded data removed]",
            "text/plain": [
              "<Figure size 648x648 with 1 Axes>"
            ]
          },
          "metadata": {
            "needs_background": "light"
          }
        }
      ]
    },
    {
      "cell_type": "markdown",
      "metadata": {
        "id": "m6ckhbERsVr2"
      },
      "source": [
        "---"
      ]
    },
    {
      "cell_type": "markdown",
      "metadata": {
        "id": "xbQYyUbnlKTg"
      },
      "source": [
        "### 높은 정확도의 cifar10 모델\n"
      ]
    },
    {
      "cell_type": "markdown",
      "metadata": {
        "id": "SQ3M6vRVXG78"
      },
      "source": [
        "## cifar10 모델 학습\n",
        "> https://gruuuuu.github.io/machine-learning/cifar10-cnn/#"
      ]
    },
    {
      "cell_type": "markdown",
      "metadata": {
        "id": "0n2PfCMBh2ju"
      },
      "source": [
        "# State of current scores of cifar-10\n",
        "\n",
        "> https://paperswithcode.com/sota/image-classification-on-cifar-10"
      ]
    },
    {
      "cell_type": "markdown",
      "metadata": {
        "id": "7abyx_2n0_7d"
      },
      "source": [
        "## Transfer learning on cifar-10\n",
        "\n",
        "- https://medium.com/@andrew.dabydeen/transfer-learning-using-resnet50-and-cifar-10-6242ed4b4245\n",
        "\n",
        "- https://medium.com/swlh/comparative-analysis-of-cifar-10-image-classification-transfer-learning-vs-user-defined-cnns-e673685d925e\n",
        "\n",
        "- https://medium.com/swlh/hands-on-the-cifar-10-dataset-with-transfer-learning-2e768fd6c318\n",
        "\n",
        "- https://medium.com/analytics-vidhya/the-transfer-learning-experience-with-vgg16-and-cifar-10-dataset-9b25b306a23f"
      ]
    },
    {
      "cell_type": "markdown",
      "metadata": {
        "id": "xmWCauBEsVr3"
      },
      "source": [
        "---"
      ]
    }
  ]
}